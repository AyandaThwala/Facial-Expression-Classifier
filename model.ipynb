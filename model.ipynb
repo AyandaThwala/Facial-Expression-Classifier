{
 "cells": [
  {
   "cell_type": "markdown",
   "metadata": {},
   "source": [
    "Ayanda Thwala (2434602) <br>\n",
    "Nqobile Hlatshwayo (2438280) <br>\n",
    "Thapelo Duma (2493083)"
   ]
  },
  {
   "cell_type": "markdown",
   "metadata": {},
   "source": [
    "# Sign-Language-Digits Classifier"
   ]
  },
  {
   "cell_type": "markdown",
   "metadata": {},
   "source": [
    "Processor (CPU) :\t11th Gen Intel(R) Core(TM) i5-1135G7 @ 2.40GHz   2.42 GHz\n",
    "\n",
    "RAM :\t8.00 GB (7.70 GB usable)\n",
    "\n",
    "System type :\t64-bit operating system, x64-based processor\n",
    "\n",
    "Graphics (GPU) - Intel(R) Iris(R) Xe Graphics"
   ]
  },
  {
   "cell_type": "markdown",
   "metadata": {},
   "source": [
    "## Import Libraries "
   ]
  },
  {
   "cell_type": "code",
   "execution_count": 28,
   "metadata": {},
   "outputs": [],
   "source": [
    "import os \n",
    "import time\n",
    "import random\n",
    "import numpy as np    \n",
    "from PIL import Image  \n",
    "import matplotlib.pyplot as plt       \n",
    "import torch                            \n",
    "import torch.nn as nn               \n",
    "import torch.optim as optim             \n",
    "import torch.nn.functional as F                                      \n",
    "import torchvision.transforms as transforms    \n",
    "from sklearn.metrics import confusion_matrix, ConfusionMatrixDisplay                 \n",
    "import warnings                                           \n",
    "warnings.filterwarnings('ignore')  "
   ]
  },
  {
   "cell_type": "code",
   "execution_count": 29,
   "metadata": {},
   "outputs": [],
   "source": [
    "# Set random seed\n",
    "torch.backends.cudnn.deterministic = True       # Set random number generator in cudnn framework to deterministic mode\n",
    "torch.backends.cudnn.benchmark = False          # Turn off the function of automatically finding the optimal convolution algorithm of the CuDNN framework to avoid the impact of different algorithms on the results.\n",
    "torch.manual_seed(42)\n",
    "np.random.seed(42)\n",
    "random.seed(42)"
   ]
  },
  {
   "cell_type": "markdown",
   "metadata": {},
   "source": [
    "## Import data from dataset"
   ]
  },
  {
   "cell_type": "code",
   "execution_count": 30,
   "metadata": {},
   "outputs": [],
   "source": [
    "def getPhoto(path_photo):\n",
    "    files_list = os.listdir(path_photo) \n",
    "    return files_list"
   ]
  },
  {
   "cell_type": "code",
   "execution_count": 31,
   "metadata": {},
   "outputs": [],
   "source": [
    "train_data=[]\n",
    "train_label=[]\n",
    "\n",
    "# The number on the hand is i\n",
    "for i in range(10):\n",
    "    path='./Sign-Language-Digits-Dataset/train/A'+str(i)+\"/\"\n",
    "    list=getPhoto(path)\n",
    "    \n",
    "    for j in range(len(list)):\n",
    "        full_path=path+list[j]\n",
    "        train_data.append(full_path)\n",
    "        train_label.append(i)\n",
    "        \n",
    "train_data=np.array(train_data)\n",
    "train_label=np.array(train_label)"
   ]
  },
  {
   "cell_type": "code",
   "execution_count": 32,
   "metadata": {},
   "outputs": [
    {
     "data": {
      "text/plain": [
       "(170, 171, 171, 171, 172, 172, 172, 171, 173, 169)"
      ]
     },
     "execution_count": 32,
     "metadata": {},
     "output_type": "execute_result"
    }
   ],
   "source": [
    "np.sum(train_label==0),np.sum(train_label==1),np.sum(train_label==2),np.sum(train_label==3),np.sum(train_label==4),np.sum(train_label==5),np.sum(train_label==6),np.sum(train_label==7),np.sum(train_label==8),np.sum(train_label==9)"
   ]
  },
  {
   "cell_type": "code",
   "execution_count": 33,
   "metadata": {},
   "outputs": [],
   "source": [
    "vali_data=[]\n",
    "vali_label=[]\n",
    "\n",
    "# The number on the hand is i\n",
    "for i in range(10):\n",
    "    path='./Sign-Language-Digits-Dataset/valid/A'+str(i)+\"/\"\n",
    "    list=getPhoto(path)\n",
    "    \n",
    "    for j in range(len(list)):\n",
    "        full_path=path+list[j]\n",
    "        vali_data.append(full_path)\n",
    "        vali_label.append(i)\n",
    "        \n",
    "vali_data=np.array(vali_data)\n",
    "vali_label=np.array(vali_label)"
   ]
  },
  {
   "cell_type": "code",
   "execution_count": 34,
   "metadata": {},
   "outputs": [
    {
     "data": {
      "text/plain": [
       "(30, 30, 30, 30, 30, 30, 30, 30, 30, 30)"
      ]
     },
     "execution_count": 34,
     "metadata": {},
     "output_type": "execute_result"
    }
   ],
   "source": [
    "np.sum(vali_label==0),np.sum(vali_label==1),np.sum(vali_label==2),np.sum(vali_label==3),np.sum(vali_label==4),np.sum(vali_label==5),np.sum(vali_label==6),np.sum(vali_label==7),np.sum(vali_label==8),np.sum(vali_label==9)"
   ]
  },
  {
   "cell_type": "code",
   "execution_count": 35,
   "metadata": {},
   "outputs": [],
   "source": [
    "test_data=[]\n",
    "test_label=[]\n",
    "\n",
    "# The number on the hand is i\n",
    "for i in range(10):\n",
    "    path='./Sign-Language-Digits-Dataset/test/A'+str(i)+\"/\"\n",
    "    list=getPhoto(path)\n",
    "    \n",
    "    for j in range(len(list)):\n",
    "        full_path=path+list[j]\n",
    "        test_data.append(full_path)\n",
    "        test_label.append(i)\n",
    "        \n",
    "test_data=np.array(test_data)\n",
    "test_label=np.array(test_label)"
   ]
  },
  {
   "cell_type": "code",
   "execution_count": 36,
   "metadata": {},
   "outputs": [
    {
     "data": {
      "text/plain": [
       "(5, 5, 5, 5, 5, 5, 5, 5, 5, 5)"
      ]
     },
     "execution_count": 36,
     "metadata": {},
     "output_type": "execute_result"
    }
   ],
   "source": [
    "np.sum(test_label==0),np.sum(test_label==1),np.sum(test_label==2),np.sum(test_label==3),np.sum(test_label==4),np.sum(test_label==5),np.sum(test_label==6),np.sum(test_label==7),np.sum(test_label==8),np.sum(test_label==9)"
   ]
  },
  {
   "cell_type": "markdown",
   "metadata": {},
   "source": [
    "## Transform"
   ]
  },
  {
   "cell_type": "code",
   "execution_count": 37,
   "metadata": {},
   "outputs": [],
   "source": [
    "# Define the standard of regularization, the mean and variance of the three color channels, which are values ​​derived from the ImageNet data set\n",
    "normalize = transforms.Normalize(mean=[0.485, 0.456, 0.406], std=[0.229, 0.224, 0.225])"
   ]
  },
  {
   "cell_type": "code",
   "execution_count": 38,
   "metadata": {},
   "outputs": [],
   "source": [
    "# The values ​​of mean and variance are obtained from ImageNet\n",
    "transform=transforms.Compose([\n",
    "     transforms.RandomRotation(30), # Randomly rotate an angle within the range of [-30,30]\n",
    "     transforms.RandomResizedCrop(size=100, scale=(0.8, 1.2),interpolation=transforms.functional.InterpolationMode.BILINEAR),# First, scale the image randomly, and then change the image into a 100*100 image.\n",
    "     transforms.RandomHorizontalFlip(), # Random horizontal flip\n",
    "     #transforms.ColorJitter(brightness=0.5, contrast=0.5, saturation=0.5), # Random color transformation\n",
    "     transforms.ToTensor(), # Convert to tensor\n",
    "     normalize # Standardized operations on images\n",
    "])"
   ]
  },
  {
   "cell_type": "code",
   "execution_count": 40,
   "metadata": {},
   "outputs": [
    {
     "name": "stdout",
     "output_type": "stream",
     "text": [
      "0\n",
      "1\n",
      "2\n",
      "3\n",
      "4\n",
      "5\n",
      "6\n",
      "7\n",
      "8\n",
      "9\n",
      "10\n",
      "11\n",
      "12\n",
      "13\n",
      "14\n"
     ]
    }
   ],
   "source": [
    "X_train=[]\n",
    "y_train=[]\n",
    "\n",
    "for epoch in range(15):\n",
    "    for i in range(len(train_data)):\n",
    "        img=Image.open(train_data[i])\n",
    "        img=np.array(transform(img))\n",
    "        X_train.append(img)\n",
    "        y_train.append(train_label[i])\n",
    "        \n",
    "    print(epoch)"
   ]
  },
  {
   "cell_type": "code",
   "execution_count": null,
   "metadata": {},
   "outputs": [
    {
     "data": {
      "text/plain": [
       "(25680, 25680)"
      ]
     },
     "execution_count": 14,
     "metadata": {},
     "output_type": "execute_result"
    }
   ],
   "source": [
    "len(X_train),len(y_train)"
   ]
  },
  {
   "cell_type": "code",
   "execution_count": null,
   "metadata": {},
   "outputs": [
    {
     "name": "stdout",
     "output_type": "stream",
     "text": [
      "0\n",
      "1\n",
      "2\n",
      "3\n",
      "4\n",
      "5\n",
      "6\n",
      "7\n",
      "8\n",
      "9\n",
      "10\n",
      "11\n",
      "12\n",
      "13\n",
      "14\n"
     ]
    }
   ],
   "source": [
    "X_vali=[]\n",
    "y_vali=[]\n",
    "\n",
    "for epoch in range(15):\n",
    "    for i in range(len(vali_data)):\n",
    "        img=Image.open(vali_data[i])\n",
    "        img=np.array(transform(img))\n",
    "        X_vali.append(img)\n",
    "        y_vali.append(vali_label[i])\n",
    "        \n",
    "    print(epoch)"
   ]
  },
  {
   "cell_type": "code",
   "execution_count": null,
   "metadata": {},
   "outputs": [
    {
     "data": {
      "text/plain": [
       "(4500, 4500)"
      ]
     },
     "execution_count": 16,
     "metadata": {},
     "output_type": "execute_result"
    }
   ],
   "source": [
    "len(X_vali),len(y_vali)"
   ]
  },
  {
   "cell_type": "code",
   "execution_count": null,
   "metadata": {},
   "outputs": [
    {
     "name": "stdout",
     "output_type": "stream",
     "text": [
      "0\n",
      "1\n",
      "2\n",
      "3\n",
      "4\n",
      "5\n",
      "6\n",
      "7\n",
      "8\n",
      "9\n",
      "10\n",
      "11\n",
      "12\n",
      "13\n",
      "14\n"
     ]
    }
   ],
   "source": [
    "X_test=[]\n",
    "y_test=[]\n",
    "\n",
    "for epoch in range(15):\n",
    "    for i in range(len(test_data)):\n",
    "        img=Image.open(test_data[i])\n",
    "        img=np.array(transform(img))\n",
    "        X_test.append(img)\n",
    "        y_test.append(test_label[i])\n",
    "        \n",
    "    print(epoch)"
   ]
  },
  {
   "cell_type": "code",
   "execution_count": null,
   "metadata": {},
   "outputs": [
    {
     "data": {
      "text/plain": [
       "(750, 750)"
      ]
     },
     "execution_count": 18,
     "metadata": {},
     "output_type": "execute_result"
    }
   ],
   "source": [
    "len(X_test),len(y_test)"
   ]
  },
  {
   "cell_type": "code",
   "execution_count": null,
   "metadata": {},
   "outputs": [],
   "source": [
    "X_train=np.array(X_train)\n",
    "y_train=np.array(y_train)\n",
    "X_vali=np.array(X_vali)\n",
    "y_vali=np.array(y_vali)\n",
    "X_test=np.array(X_test)\n",
    "y_test=np.array(y_test)"
   ]
  },
  {
   "cell_type": "markdown",
   "metadata": {},
   "source": [
    "## Build Model"
   ]
  },
  {
   "cell_type": "code",
   "execution_count": null,
   "metadata": {},
   "outputs": [],
   "source": [
    "class CNN(nn.Module):\n",
    "\n",
    "    def __init__(self):\n",
    "        \n",
    "        super(CNN,self).__init__()\n",
    "       \n",
    "        self.conv=nn.Sequential(\n",
    "        \n",
    "        #3*100*100\n",
    "        nn.Conv2d(3,16,3,1,0,bias=True),\n",
    "        #32*98*98\n",
    "        nn.MaxPool2d(2,2,0),\n",
    "        #32*49*49\n",
    "        nn.BatchNorm2d(16),\n",
    "        nn.SiLU(),\n",
    "        \n",
    "        nn.Conv2d(16,32,3,1,0,bias=True),\n",
    "        #32*47*47\n",
    "        nn.MaxPool2d(2,2,(1,1)),\n",
    "        nn.BatchNorm2d(32),\n",
    "        nn.GELU(),\n",
    "        \n",
    "        nn.Conv2d(32,64,3,1,0,bias=True),\n",
    "        nn.MaxPool2d(2,2,0),\n",
    "        #64*11*11\n",
    "        nn.BatchNorm2d(64),\n",
    "        nn.Tanh(),\n",
    "        \n",
    "        )\n",
    "       \n",
    "        # Fully connected network layer, input 64*30*30, output the probability of 10 categories\n",
    "        self.Linear=nn.Sequential(\n",
    "            nn.Linear(64*11*11,1024),\n",
    "            nn.GELU(),\n",
    "            nn.BatchNorm1d(1024),\n",
    "            nn.Linear(1024,124),\n",
    "            nn.GELU(),\n",
    "            nn.BatchNorm1d(124),\n",
    "            nn.Linear(124,10),\n",
    "        )\n",
    "      \n",
    "        \n",
    "    def forward(self,input): \n",
    "        output=input\n",
    "        output=self.conv(output)\n",
    "        output=output.view(-1,64*11*11)\n",
    "        output=self.Linear(output)\n",
    "\n",
    "        return F.softmax(output,dim=1)"
   ]
  },
  {
   "cell_type": "code",
   "execution_count": null,
   "metadata": {},
   "outputs": [],
   "source": [
    "def weight_init(m):\n",
    "    # Get the name of the class to which the object belongs\n",
    "    class_name=m.__class__.__name__\n",
    "    \n",
    "    # When \"conv\" appears in the name of the object, it is a convolution operation\n",
    "    if class_name.find('conv')!=-1:\n",
    "        \n",
    "        # The convolution kernel is randomly initialized according to the mean and standard deviation of the normal distribution. \n",
    "        m.weight.data.normal_(0,0.02)"
   ]
  },
  {
   "cell_type": "code",
   "execution_count": null,
   "metadata": {},
   "outputs": [
    {
     "name": "stdout",
     "output_type": "stream",
     "text": [
      "CNN(\n",
      "  (conv): Sequential(\n",
      "    (0): Conv2d(3, 16, kernel_size=(3, 3), stride=(1, 1))\n",
      "    (1): MaxPool2d(kernel_size=2, stride=2, padding=0, dilation=1, ceil_mode=False)\n",
      "    (2): BatchNorm2d(16, eps=1e-05, momentum=0.1, affine=True, track_running_stats=True)\n",
      "    (3): SiLU()\n",
      "    (4): Conv2d(16, 32, kernel_size=(3, 3), stride=(1, 1))\n",
      "    (5): MaxPool2d(kernel_size=2, stride=2, padding=(1, 1), dilation=1, ceil_mode=False)\n",
      "    (6): BatchNorm2d(32, eps=1e-05, momentum=0.1, affine=True, track_running_stats=True)\n",
      "    (7): GELU(approximate='none')\n",
      "    (8): Conv2d(32, 64, kernel_size=(3, 3), stride=(1, 1))\n",
      "    (9): MaxPool2d(kernel_size=2, stride=2, padding=0, dilation=1, ceil_mode=False)\n",
      "    (10): BatchNorm2d(64, eps=1e-05, momentum=0.1, affine=True, track_running_stats=True)\n",
      "    (11): Tanh()\n",
      "  )\n",
      "  (Linear): Sequential(\n",
      "    (0): Linear(in_features=7744, out_features=1024, bias=True)\n",
      "    (1): GELU(approximate='none')\n",
      "    (2): BatchNorm1d(1024, eps=1e-05, momentum=0.1, affine=True, track_running_stats=True)\n",
      "    (3): Linear(in_features=1024, out_features=124, bias=True)\n",
      "    (4): GELU(approximate='none')\n",
      "    (5): BatchNorm1d(124, eps=1e-05, momentum=0.1, affine=True, track_running_stats=True)\n",
      "    (6): Linear(in_features=124, out_features=10, bias=True)\n",
      "  )\n",
      ")\n"
     ]
    }
   ],
   "source": [
    "# Initialize the neural network\n",
    "netC=CNN()\n",
    "netC.apply(weight_init)\n",
    "print(netC)\n",
    "\n",
    "# optimizer\n",
    "optimizer=optim.Adam(netC.parameters(),lr=0.0002,betas=(0.5,0.999))\n",
    "\n",
    "# loss function\n",
    "# criterion= nn.CrossEntropyLoss() # Negative log-likelihood loss function is also a type of cross-entropy loss function\n",
    "criterion = nn.MSELoss() # Mean square error loss function\n",
    "\n",
    "# The training cycle is 10 times\n",
    "num_epochs=10\n",
    "\n",
    "# Create Variables To Track Things\n",
    "train_losses = []\n",
    "vali_losses = []\n",
    "train_correct = []\n",
    "vali_correct = []"
   ]
  },
  {
   "cell_type": "markdown",
   "metadata": {},
   "source": [
    "## Train"
   ]
  },
  {
   "cell_type": "code",
   "execution_count": null,
   "metadata": {},
   "outputs": [
    {
     "name": "stdout",
     "output_type": "stream",
     "text": [
      "start\n",
      "0 29.634193420410156\n",
      "0 26.665355682373047\n",
      "Validation\n",
      "0 27.059749603271484\n",
      "0 28.290143966674805\n",
      "start\n",
      "1 27.92133140563965\n",
      "1 27.818113327026367\n",
      "Validation\n",
      "1 27.233318328857422\n",
      "1 26.298114776611328\n",
      "start\n",
      "2 28.19010353088379\n",
      "2 25.695697784423828\n",
      "Validation\n",
      "2 27.578903198242188\n",
      "2 27.266094207763672\n",
      "start\n",
      "3 28.762889862060547\n",
      "3 27.681272506713867\n",
      "Validation\n",
      "3 27.413284301757812\n",
      "3 27.242088317871094\n",
      "start\n",
      "4 28.01647186279297\n",
      "4 27.726062774658203\n",
      "Validation\n",
      "4 27.06047248840332\n",
      "4 27.612472534179688\n",
      "start\n",
      "5 28.106061935424805\n",
      "5 28.50685691833496\n",
      "Validation\n",
      "5 29.00606918334961\n",
      "5 26.804462432861328\n",
      "start\n",
      "6 27.958852767944336\n",
      "6 27.32284927368164\n",
      "Validation\n",
      "6 28.910058975219727\n",
      "6 29.899656295776367\n",
      "start\n",
      "7 26.351646423339844\n",
      "7 25.705251693725586\n",
      "Validation\n",
      "7 28.74525260925293\n",
      "7 29.402849197387695\n",
      "start\n",
      "8 27.754840850830078\n",
      "8 28.308441162109375\n",
      "Validation\n",
      "8 28.576446533203125\n",
      "8 27.5428466796875\n",
      "start\n",
      "9 27.006837844848633\n",
      "9 29.248437881469727\n",
      "Validation\n",
      "9 28.26124382019043\n",
      "9 27.425241470336914\n",
      "Training took 9.047143999735514 minutes\n"
     ]
    }
   ],
   "source": [
    "start_time = time.time()\n",
    "\n",
    "for epoch in range(num_epochs):\n",
    "    num=[i for i in range(len(X_train))]\n",
    "    np.random.shuffle(num)\n",
    "    X_train=X_train[num]\n",
    "    y_train=y_train[num]\n",
    "    \n",
    "    numi=[j for j in range(len(X_vali))]\n",
    "    np.random.shuffle(numi)\n",
    "    X_vali=X_vali[numi]\n",
    "    y_vali=y_vali[numi]\n",
    "    \n",
    "    trn_corr = 0\n",
    "    val_corr = 0\n",
    "    print(\"start\")\n",
    "    \n",
    "    for i in range(10):\n",
    "        image=[]\n",
    "        label=[]\n",
    "        \n",
    "        for j in range(500):\n",
    "            image.append(X_train[1000*i+j].reshape((3,100,100)))\n",
    "            label.append(y_train[1000*i+j])\n",
    "            \n",
    "        # Convert data into a tensor format that can be processed\n",
    "        image=torch.Tensor(image) \n",
    "        label=torch.Tensor(label) \n",
    "        \n",
    "        # train\n",
    "        netC.train()\n",
    "        \n",
    "        # Put the data in for training\n",
    "        output=netC(image)\n",
    "        \n",
    "        # Calculate the loss function each time\n",
    "        label = label.unsqueeze(1)\n",
    "        error=criterion(output,label)\n",
    "        \n",
    "        predicted = torch.max(output.data, 1)[1] # add up the number of corrrect predidctions\n",
    "        trn_corr += (predicted == label).sum()   # how many correct in the batch\n",
    "                \n",
    "        # Backpropagation\n",
    "        error.backward()\n",
    "        \n",
    "        # Optimizer performs optimization (gradient descent, error reduction)\n",
    "        optimizer.step()\n",
    "        \n",
    "        # Clear the gradient\n",
    "        optimizer.zero_grad()\n",
    "        \n",
    "        if i%5==0:\n",
    "            print(epoch,error.item())\n",
    "            train_losses.append(error)\n",
    "    train_correct.append(trn_corr)\n",
    "    \n",
    "    # Validate\n",
    "    print(\"Validation\")\n",
    "    with torch.no_grad(): # we do not need to backpropagate\n",
    "        for i in range(10):\n",
    "            image=[]\n",
    "            label=[]\n",
    "        \n",
    "            for j in range(500):\n",
    "                image.append(X_vali[100*i+j].reshape((3,100,100)))\n",
    "                label.append(y_vali[100*i+j])\n",
    "            \n",
    "            image=torch.Tensor(image) \n",
    "            label=torch.Tensor(label)\n",
    "            label = label.unsqueeze(1)\n",
    "            \n",
    "            y_val = netC(image) # No flatten\n",
    "            predicted = torch.max(y_val.data,1)[1]\n",
    "            val_corr += (predicted == label).sum()\n",
    "            loss = criterion(y_val,label) \n",
    "            \n",
    "            if i%5==0:\n",
    "                print(epoch,loss.item())      \n",
    "                vali_losses.append(loss)        \n",
    "    vali_correct.append(val_corr)\n",
    "    \n",
    "current_time = time.time()\n",
    "total = current_time - start_time\n",
    "print(f'Training took {total/60} minutes')"
   ]
  },
  {
   "cell_type": "markdown",
   "metadata": {},
   "source": [
    "## Test pt2"
   ]
  },
  {
   "cell_type": "code",
   "execution_count": null,
   "metadata": {},
   "outputs": [
    {
     "name": "stdout",
     "output_type": "stream",
     "text": [
      "0\n",
      "1000\n",
      "2000\n",
      "3000\n",
      "4000\n",
      "5000\n",
      "6000\n",
      "7000\n",
      "8000\n",
      "9000\n",
      "10000\n",
      "11000\n",
      "12000\n",
      "13000\n",
      "14000\n",
      "15000\n",
      "16000\n",
      "17000\n",
      "18000\n",
      "19000\n",
      "20000\n",
      "21000\n",
      "22000\n",
      "23000\n",
      "24000\n",
      "25000\n",
      "Training set accuracy: 97.7414%\n",
      "Total number of training set: 25680\n"
     ]
    }
   ],
   "source": [
    "pred_y=[]\n",
    "\n",
    "for i in range(len(X_train)):\n",
    "    netC.eval()\n",
    "    \n",
    "    with torch.no_grad():\n",
    "        pred=netC(torch.Tensor(X_train[i].reshape((1,3,100,100))))[0]\n",
    "        pred=np.argmax(pred.detach().cpu().numpy())\n",
    "        pred_y.append(pred)\n",
    "        \n",
    "    if i%1000==0:\n",
    "        print(i)\n",
    "\n",
    "print(f'Training set accuracy: {((np.sum(pred_y==y_train)/len(y_train))*100):.4f}%')  \n",
    "print(f'Total number of training set: {len(y_train)}')    "
   ]
  },
  {
   "cell_type": "code",
   "execution_count": null,
   "metadata": {},
   "outputs": [
    {
     "name": "stdout",
     "output_type": "stream",
     "text": [
      "0\n",
      "1000\n",
      "2000\n",
      "3000\n",
      "4000\n",
      "Validation set accuracy: 93.8667%\n",
      "Total number of validation set: 4500\n"
     ]
    }
   ],
   "source": [
    "pred_y=[]\n",
    "\n",
    "for i in range(len(X_vali)):\n",
    "    netC.eval()\n",
    "    \n",
    "    with torch.no_grad():\n",
    "        pred=netC(torch.Tensor(X_vali[i].reshape((1,3,100,100))))[0]\n",
    "        pred=np.argmax(pred.detach().cpu().numpy())\n",
    "        pred_y.append(pred)\n",
    "        \n",
    "    if i%1000==0:\n",
    "        print(i)\n",
    "        \n",
    "print(f'Validation set accuracy: {((np.sum(pred_y==y_vali)/len(y_vali))*100):.4f}%')  \n",
    "print(f'Total number of validation set: {len(y_vali)}')  "
   ]
  },
  {
   "cell_type": "code",
   "execution_count": null,
   "metadata": {},
   "outputs": [
    {
     "name": "stdout",
     "output_type": "stream",
     "text": [
      "0\n",
      "Test set accuracy: 90.6667%\n",
      "Total number of validation set: 750\n"
     ]
    }
   ],
   "source": [
    "pred_y=[]\n",
    "\n",
    "for i in range(len(X_test)):\n",
    "    netC.eval()\n",
    "    \n",
    "    with torch.no_grad():\n",
    "        pred=netC(torch.Tensor(X_test[i].reshape((1,3,100,100))))[0]\n",
    "        pred=np.argmax(pred.detach().cpu().numpy())\n",
    "        pred_y.append(pred)\n",
    "        \n",
    "    if i%1000==0:\n",
    "        print(i)\n",
    "        \n",
    "print(f'Test set accuracy: {((np.sum(pred_y==y_test)/len(y_test))*100):.4f}%')  \n",
    "print(f'Total number of validation set: {len(y_test)}')  "
   ]
  },
  {
   "cell_type": "markdown",
   "metadata": {},
   "source": [
    "## Demonstration"
   ]
  },
  {
   "cell_type": "code",
   "execution_count": null,
   "metadata": {},
   "outputs": [
    {
     "name": "stdout",
     "output_type": "stream",
     "text": [
      "forecast result: 1 actual value: 1\n"
     ]
    },
    {
     "name": "stderr",
     "output_type": "stream",
     "text": [
      "Clipping input data to the valid range for imshow with RGB data ([0..1] for floats or [0..255] for integers).\n"
     ]
    },
    {
     "data": {
      "text/plain": [
       "<matplotlib.image.AxesImage at 0x1ddf1ff85c0>"
      ]
     },
     "execution_count": 27,
     "metadata": {},
     "output_type": "execute_result"
    },
    {
     "data": {
      "image/png": "[encoded data removed]",
      "text/plain": [
       "<Figure size 640x480 with 1 Axes>"
      ]
     },
     "metadata": {},
     "output_type": "display_data"
    }
   ],
   "source": [
    "index=7\n",
    "pred=netC(torch.Tensor(X_test[index].reshape(1,3,100,100)))[0]\n",
    "print(\"forecast result:\",np.argmax(pred.detach().cpu().numpy()),\"actual value:\",y_test[index])\n",
    "plt.imshow(X_test[index].transpose(1,2,0))"
   ]
  },
  {
   "cell_type": "markdown",
   "metadata": {},
   "source": [
    "## Graphs"
   ]
  },
  {
   "cell_type": "code",
   "execution_count": null,
   "metadata": {},
   "outputs": [
    {
     "data": {
      "text/plain": [
       "[2.3114945888519287,\n",
       " 2.020765542984009,\n",
       " 1.9152247905731201,\n",
       " 1.849393606185913,\n",
       " 1.8122460842132568,\n",
       " 1.760858416557312,\n",
       " 1.7072373628616333,\n",
       " 1.6743642091751099,\n",
       " 1.6672234535217285,\n",
       " 1.626654863357544,\n",
       " 1.614010214805603,\n",
       " 1.621601939201355,\n",
       " 1.5749475955963135,\n",
       " 1.5726546049118042,\n",
       " 1.5650746822357178,\n",
       " 1.5687912702560425,\n",
       " 1.5429413318634033,\n",
       " 1.538474678993225,\n",
       " 1.5402148962020874,\n",
       " 1.539840579032898]"
      ]
     },
     "execution_count": 28,
     "metadata": {},
     "output_type": "execute_result"
    }
   ],
   "source": [
    "train_losses = [i.item() for i in train_losses]\n",
    "train_losses"
   ]
  },
  {
   "cell_type": "code",
   "execution_count": null,
   "metadata": {},
   "outputs": [
    {
     "data": {
      "text/plain": [
       "[1.935852289199829,\n",
       " 1.9274001121520996,\n",
       " 1.8216166496276855,\n",
       " 1.8163193464279175,\n",
       " 1.7574888467788696,\n",
       " 1.764886498451233,\n",
       " 1.6914132833480835,\n",
       " 1.686532735824585,\n",
       " 1.650865077972412,\n",
       " 1.6581465005874634,\n",
       " 1.6291630268096924,\n",
       " 1.6237515211105347,\n",
       " 1.6108168363571167,\n",
       " 1.6070811748504639,\n",
       " 1.5881359577178955,\n",
       " 1.5878002643585205,\n",
       " 1.5888563394546509,\n",
       " 1.5985615253448486,\n",
       " 1.5730042457580566,\n",
       " 1.5728113651275635]"
      ]
     },
     "execution_count": 29,
     "metadata": {},
     "output_type": "execute_result"
    }
   ],
   "source": [
    "vali_losses = [i.item() for i in vali_losses]\n",
    "vali_losses"
   ]
  },
  {
   "cell_type": "code",
   "execution_count": null,
   "metadata": {},
   "outputs": [
    {
     "data": {
      "text/plain": [
       "<matplotlib.legend.Legend at 0x1de47369a00>"
      ]
     },
     "execution_count": 30,
     "metadata": {},
     "output_type": "execute_result"
    },
    {
     "data": {
      "image/png": "[encoded data removed]",
      "text/plain": [
       "<Figure size 640x480 with 1 Axes>"
      ]
     },
     "metadata": {},
     "output_type": "display_data"
    }
   ],
   "source": [
    "plt.plot(train_losses, label=\"Training Loss\")\n",
    "plt.plot(vali_losses, label=\"Validation Loss\")\n",
    "plt.title(\"Loss at Epoch\")\n",
    "plt.legend()"
   ]
  },
  {
   "cell_type": "code",
   "execution_count": null,
   "metadata": {},
   "outputs": [
    {
     "data": {
      "text/plain": [
       "<matplotlib.legend.Legend at 0x1ddb26d4a40>"
      ]
     },
     "execution_count": 31,
     "metadata": {},
     "output_type": "execute_result"
    },
    {
     "data": {
      "image/png": "[encoded data removed]",
      "text/plain": [
       "<Figure size 640x480 with 1 Axes>"
      ]
     },
     "metadata": {},
     "output_type": "display_data"
    }
   ],
   "source": [
    "plt.plot([t/1000 for t in train_correct], label=\"Training Accuracy\")\n",
    "plt.plot([t/1000 for t in vali_correct], label=\"Validation Accuracy\")\n",
    "plt.title(\"Accuracy at the end of each Epoch\")\n",
    "plt.legend()"
   ]
  },
  {
   "cell_type": "code",
   "execution_count": null,
   "metadata": {},
   "outputs": [
    {
     "data": {
      "image/png": "[encoded data removed]",
      "text/plain": [
       "<Figure size 640x480 with 2 Axes>"
      ]
     },
     "metadata": {},
     "output_type": "display_data"
    }
   ],
   "source": [
    "conf_matr = confusion_matrix(pred_y, y_test)\n",
    "cm_display = ConfusionMatrixDisplay(conf_matr).plot()"
   ]
  },
  {
   "cell_type": "markdown",
   "metadata": {},
   "source": [
    "## Save model since it can take forever to train"
   ]
  },
  {
   "cell_type": "code",
   "execution_count": null,
   "metadata": {},
   "outputs": [],
   "source": [
    "torch.save(netC,\"sign_language.pth\")"
   ]
  }
 ],
 "metadata": {
  "kernelspec": {
   "display_name": "Python 3 (ipykernel)",
   "language": "python",
   "name": "python3"
  },
  "language_info": {
   "codemirror_mode": {
    "name": "ipython",
    "version": 3
   },
   "file_extension": ".py",
   "mimetype": "text/x-python",
   "name": "python",
   "nbconvert_exporter": "python",
   "pygments_lexer": "ipython3",
   "version": "3.12.2"
  }
 },
 "nbformat": 4,
 "nbformat_minor": 4
}
