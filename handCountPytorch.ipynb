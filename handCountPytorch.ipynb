{
 "cells": [
  {
   "cell_type": "code",
   "execution_count": 1,
   "metadata": {},
   "outputs": [],
   "source": [
    "import numpy as np    \n",
    "import matplotlib.pyplot as plt       \n",
    "import torch                            \n",
    "import torch.nn as nn               \n",
    "import torch.optim as optim             \n",
    "import torch.nn.functional as F         \n",
    "import os                             \n",
    "from PIL import Image   \n",
    "import torchvision.transforms as transforms                     \n",
    "import warnings                                           \n",
    "warnings.filterwarnings('ignore')       "
   ]
  },
  {
   "cell_type": "code",
   "execution_count": 25,
   "metadata": {},
   "outputs": [],
   "source": [
    "# Set random seed\n",
    "import random\n",
    "torch.backends.cudnn.deterministic = True       # Set random number generator in cudnn framework to deterministic mode\n",
    "torch.backends.cudnn.benchmark = False          # Turn off the function of automatically finding the optimal convolution algorithm of the CuDNN framework to avoid the impact of different algorithms on the results.\n",
    "torch.manual_seed(42)\n",
    "np.random.seed(42)\n",
    "random.seed(42)"
   ]
  },
  {
   "cell_type": "code",
   "execution_count": 26,
   "metadata": {},
   "outputs": [],
   "source": [
    "def getPhoto(path_photo):\n",
    "    files_list = os.listdir(path_photo) \n",
    "    return files_list"
   ]
  },
  {
   "cell_type": "code",
   "execution_count": 5,
   "metadata": {},
   "outputs": [],
   "source": [
    "data=[]\n",
    "label=[]\n",
    "\n",
    "# The number on the hand is i\n",
    "for i in range(10):\n",
    "    path='./Sign-Language-Digits-Dataset/train/A'+str(i)+\"/\"\n",
    "    list=getPhoto(path)\n",
    "    \n",
    "    for j in range(len(list)):\n",
    "        full_path=path+list[j]\n",
    "        data.append(full_path)\n",
    "        label.append(i)\n",
    "        \n",
    "data=np.array(data)\n",
    "label=np.array(label)"
   ]
  },
  {
   "cell_type": "code",
   "execution_count": 6,
   "metadata": {},
   "outputs": [],
   "source": [
    "num=[i for i in range(len(data))]\n",
    "np.random.shuffle(num)\n",
    "data=data[num]\n",
    "label=label[num]\n",
    "train_X=np.array(data[:8*len(data)//10])\n",
    "train_y=np.array(label[:8*len(data)//10])\n",
    "test_X=np.array(data[8*len(data)//10:])\n",
    "test_y=np.array(label[8*len(data)//10:])"
   ]
  },
  {
   "cell_type": "code",
   "execution_count": 7,
   "metadata": {},
   "outputs": [
    {
     "data": {
      "text/plain": [
       "(140, 140, 138, 142, 138, 139, 136, 141, 126, 129)"
      ]
     },
     "execution_count": 7,
     "metadata": {},
     "output_type": "execute_result"
    }
   ],
   "source": [
    "np.sum(train_y==0),np.sum(train_y==1),np.sum(train_y==2),np.sum(train_y==3),np.sum(train_y==4),np.sum(train_y==5),np.sum(train_y==6),np.sum(train_y==7),np.sum(train_y==8),np.sum(train_y==9)"
   ]
  },
  {
   "cell_type": "code",
   "execution_count": 8,
   "metadata": {},
   "outputs": [],
   "source": [
    "# Define the standard of regularization, the mean and variance of the three color channels, which are values ​​derived from the ImageNet data set\n",
    "normalize = transforms.Normalize(mean=[0.485, 0.456, 0.406], std=[0.229, 0.224, 0.225])"
   ]
  },
  {
   "cell_type": "code",
   "execution_count": 9,
   "metadata": {},
   "outputs": [],
   "source": [
    "# The values ​​of mean and variance are obtained from ImageNet\n",
    "transform=transforms.Compose([\n",
    "     transforms.RandomRotation(30), # Randomly rotate an angle within the range of [-30,30]\n",
    "     transforms.RandomResizedCrop(size=100, scale=(0.8, 1.2),interpolation=transforms.functional.InterpolationMode.BILINEAR),# First, scale the image randomly, and then change the image into a 100*100 image.\n",
    "     transforms.RandomHorizontalFlip(), # Random horizontal flip\n",
    "     #transforms.ColorJitter(brightness=0.5, contrast=0.5, saturation=0.5), # Random color transformation\n",
    "     transforms.ToTensor(), # Convert to tensor\n",
    "     normalize # Standardized operations on images\n",
    "])"
   ]
  },
  {
   "cell_type": "code",
   "execution_count": 10,
   "metadata": {},
   "outputs": [
    {
     "name": "stdout",
     "output_type": "stream",
     "text": [
      "0\n",
      "1\n",
      "2\n",
      "3\n",
      "4\n",
      "5\n",
      "6\n",
      "7\n",
      "8\n",
      "9\n",
      "10\n",
      "11\n",
      "12\n",
      "13\n",
      "14\n"
     ]
    }
   ],
   "source": [
    "X_train=[]\n",
    "y_train=[]\n",
    "\n",
    "for epoch in range(15):\n",
    "    for i in range(len(train_X)):\n",
    "        img=Image.open(train_X[i])\n",
    "        img=np.array(transform(img))\n",
    "        X_train.append(img)\n",
    "        y_train.append(train_y[i])\n",
    "        \n",
    "    print(epoch)"
   ]
  },
  {
   "cell_type": "code",
   "execution_count": 11,
   "metadata": {},
   "outputs": [
    {
     "name": "stdout",
     "output_type": "stream",
     "text": [
      "0\n",
      "1\n",
      "2\n",
      "3\n",
      "4\n",
      "5\n",
      "6\n",
      "7\n",
      "8\n",
      "9\n",
      "10\n",
      "11\n",
      "12\n",
      "13\n",
      "14\n"
     ]
    }
   ],
   "source": [
    "X_test=[]\n",
    "y_test=[]\n",
    "\n",
    "for epoch in range(15):\n",
    "    for i in range(len(test_X)):\n",
    "        img=Image.open(test_X[i])\n",
    "        img=np.array(transform(img))\n",
    "        X_test.append(img)\n",
    "        y_test.append(test_y[i])\n",
    "        \n",
    "    print(epoch)"
   ]
  },
  {
   "cell_type": "code",
   "execution_count": 12,
   "metadata": {},
   "outputs": [],
   "source": [
    "X_train=np.array(X_train)\n",
    "y_train=np.array(y_train)\n",
    "X_test=np.array(X_test)\n",
    "y_test=np.array(y_test)"
   ]
  },
  {
   "cell_type": "code",
   "execution_count": 13,
   "metadata": {},
   "outputs": [],
   "source": [
    "class CNN(nn.Module):\n",
    "\n",
    "    def __init__(self):\n",
    "        \n",
    "        super(CNN,self).__init__()\n",
    "       \n",
    "        self.conv=nn.Sequential(\n",
    "        \n",
    "        #3*100*100\n",
    "        nn.Conv2d(3,16,3,1,0,bias=True),\n",
    "        #32*98*98\n",
    "        nn.MaxPool2d(2,2,0),\n",
    "        #32*49*49\n",
    "        nn.BatchNorm2d(16),\n",
    "        nn.SiLU(),\n",
    "        \n",
    "        nn.Conv2d(16,32,3,1,0,bias=True),\n",
    "        #32*47*47\n",
    "        nn.MaxPool2d(2,2,(1,1)),\n",
    "        nn.BatchNorm2d(32),\n",
    "        nn.GELU(),\n",
    "        \n",
    "        nn.Conv2d(32,64,3,1,0,bias=True),\n",
    "        nn.MaxPool2d(2,2,0),\n",
    "        #64*11*11\n",
    "        nn.BatchNorm2d(64),\n",
    "        nn.Tanh(),\n",
    "        \n",
    "        )\n",
    "       \n",
    "        # Fully connected network layer, input 64*30*30, output the probability of 10 categories\n",
    "        self.Linear=nn.Sequential(\n",
    "            nn.Linear(64*11*11,1024),\n",
    "            nn.GELU(),\n",
    "            nn.BatchNorm1d(1024),\n",
    "            nn.Linear(1024,124),\n",
    "            nn.GELU(),\n",
    "            nn.BatchNorm1d(124),\n",
    "            nn.Linear(124,10),\n",
    "        )\n",
    "      \n",
    "        \n",
    "    def forward(self,input): \n",
    "        output=input\n",
    "        output=self.conv(output)\n",
    "        output=output.view(-1,64*11*11)\n",
    "        output=self.Linear(output)\n",
    "\n",
    "        return F.softmax(output,dim=1)"
   ]
  },
  {
   "cell_type": "code",
   "execution_count": 14,
   "metadata": {},
   "outputs": [],
   "source": [
    "def weight_init(m):\n",
    "    # Get the name of the class to which the object belongs\n",
    "    class_name=m.__class__.__name__\n",
    "    \n",
    "    # When \"conv\" appears in the name of the object, it is a convolution operation\n",
    "    if class_name.find('conv')!=-1:\n",
    "        \n",
    "        # The convolution kernel is randomly initialized according to the mean and standard deviation of the normal distribution. \n",
    "        m.weight.data.normal_(0,0.02)"
   ]
  },
  {
   "cell_type": "code",
   "execution_count": 15,
   "metadata": {},
   "outputs": [
    {
     "name": "stdout",
     "output_type": "stream",
     "text": [
      "CNN(\n",
      "  (conv): Sequential(\n",
      "    (0): Conv2d(3, 16, kernel_size=(3, 3), stride=(1, 1))\n",
      "    (1): MaxPool2d(kernel_size=2, stride=2, padding=0, dilation=1, ceil_mode=False)\n",
      "    (2): BatchNorm2d(16, eps=1e-05, momentum=0.1, affine=True, track_running_stats=True)\n",
      "    (3): SiLU()\n",
      "    (4): Conv2d(16, 32, kernel_size=(3, 3), stride=(1, 1))\n",
      "    (5): MaxPool2d(kernel_size=2, stride=2, padding=(1, 1), dilation=1, ceil_mode=False)\n",
      "    (6): BatchNorm2d(32, eps=1e-05, momentum=0.1, affine=True, track_running_stats=True)\n",
      "    (7): GELU(approximate='none')\n",
      "    (8): Conv2d(32, 64, kernel_size=(3, 3), stride=(1, 1))\n",
      "    (9): MaxPool2d(kernel_size=2, stride=2, padding=0, dilation=1, ceil_mode=False)\n",
      "    (10): BatchNorm2d(64, eps=1e-05, momentum=0.1, affine=True, track_running_stats=True)\n",
      "    (11): Tanh()\n",
      "  )\n",
      "  (Linear): Sequential(\n",
      "    (0): Linear(in_features=7744, out_features=1024, bias=True)\n",
      "    (1): GELU(approximate='none')\n",
      "    (2): BatchNorm1d(1024, eps=1e-05, momentum=0.1, affine=True, track_running_stats=True)\n",
      "    (3): Linear(in_features=1024, out_features=124, bias=True)\n",
      "    (4): GELU(approximate='none')\n",
      "    (5): BatchNorm1d(124, eps=1e-05, momentum=0.1, affine=True, track_running_stats=True)\n",
      "    (6): Linear(in_features=124, out_features=10, bias=True)\n",
      "  )\n",
      ")\n"
     ]
    }
   ],
   "source": [
    "# Initialize the neural network\n",
    "netC=CNN()\n",
    "netC.apply(weight_init)\n",
    "print(netC)\n",
    "\n",
    "# optimizer\n",
    "optimizer=optim.Adam(netC.parameters(),lr=0.0002,betas=(0.5,0.999))\n",
    "\n",
    "# loss function\n",
    "criterion=nn.NLLLoss() # Negative log-likelihood loss function is also a type of cross-entropy loss function\n",
    "\n",
    "# The training cycle is 10 times\n",
    "num_epochs=10\n",
    "errors=[]"
   ]
  },
  {
   "cell_type": "code",
   "execution_count": 16,
   "metadata": {},
   "outputs": [
    {
     "name": "stdout",
     "output_type": "stream",
     "text": [
      "start\n",
      "0 tensor(-0.1034, grad_fn=<NllLossBackward0>)\n",
      "0 tensor(-0.3941, grad_fn=<NllLossBackward0>)\n",
      "start\n",
      "1 tensor(-0.5109, grad_fn=<NllLossBackward0>)\n",
      "1 tensor(-0.5816, grad_fn=<NllLossBackward0>)\n",
      "start\n",
      "2 tensor(-0.6313, grad_fn=<NllLossBackward0>)\n",
      "2 tensor(-0.6985, grad_fn=<NllLossBackward0>)\n",
      "start\n",
      "3 tensor(-0.7290, grad_fn=<NllLossBackward0>)\n",
      "3 tensor(-0.7573, grad_fn=<NllLossBackward0>)\n",
      "start\n",
      "4 tensor(-0.7968, grad_fn=<NllLossBackward0>)\n",
      "4 tensor(-0.8212, grad_fn=<NllLossBackward0>)\n",
      "start\n",
      "5 tensor(-0.8393, grad_fn=<NllLossBackward0>)\n",
      "5 tensor(-0.8509, grad_fn=<NllLossBackward0>)\n",
      "start\n",
      "6 tensor(-0.8460, grad_fn=<NllLossBackward0>)\n",
      "6 tensor(-0.8834, grad_fn=<NllLossBackward0>)\n",
      "start\n",
      "7 tensor(-0.9001, grad_fn=<NllLossBackward0>)\n",
      "7 tensor(-0.9118, grad_fn=<NllLossBackward0>)\n",
      "start\n",
      "8 tensor(-0.9185, grad_fn=<NllLossBackward0>)\n",
      "8 tensor(-0.9189, grad_fn=<NllLossBackward0>)\n",
      "start\n",
      "9 tensor(-0.9245, grad_fn=<NllLossBackward0>)\n",
      "9 tensor(-0.9418, grad_fn=<NllLossBackward0>)\n"
     ]
    }
   ],
   "source": [
    "for epoch in range(num_epochs):\n",
    "    num=[i for i in range(len(X_train))]\n",
    "    np.random.shuffle(num)\n",
    "    X_train=X_train[num]\n",
    "    y_train=y_train[num]\n",
    "    print(\"start\")\n",
    "    \n",
    "    for i in range(10):\n",
    "        image=[]\n",
    "        label=[]\n",
    "        \n",
    "        for j in range(500):\n",
    "            image.append(X_train[1000*i+j].reshape((3,100,100)))\n",
    "            label.append(y_train[1000*i+j])\n",
    "            \n",
    "        # Convert data into a tensor format that can be processed\n",
    "        image=torch.Tensor(image) \n",
    "        label=torch.Tensor(label).long() \n",
    "        \n",
    "        # train\n",
    "        netC.train()\n",
    "        \n",
    "        # Put the data in for training\n",
    "        output=netC(image) #.to(device)\n",
    "        \n",
    "        # Calculate the loss function each time\n",
    "        error=criterion(output,label)\n",
    "        \n",
    "        # Backpropagation\n",
    "        error.backward()\n",
    "        \n",
    "        # Optimizer performs optimization (gradient descent, error reduction)\n",
    "        optimizer.step()\n",
    "        \n",
    "        # Clear the gradient\n",
    "        optimizer.zero_grad()\n",
    "        \n",
    "        if i%5==0:\n",
    "            print(epoch,error)\n",
    "            errors.append(error)"
   ]
  },
  {
   "cell_type": "code",
   "execution_count": 18,
   "metadata": {},
   "outputs": [
    {
     "name": "stdout",
     "output_type": "stream",
     "text": [
      "0\n",
      "1000\n",
      "2000\n",
      "3000\n",
      "4000\n",
      "5000\n",
      "6000\n",
      "7000\n",
      "8000\n",
      "9000\n",
      "10000\n",
      "11000\n",
      "12000\n",
      "13000\n",
      "14000\n",
      "15000\n",
      "16000\n",
      "17000\n",
      "18000\n",
      "19000\n",
      "20000\n",
      "Test set accuracy: 0.9819819819819819 The total number of training sets is: 20535\n"
     ]
    }
   ],
   "source": [
    "pred_y=[]\n",
    "\n",
    "for i in range(len(X_train)):\n",
    "    netC.eval()\n",
    "    \n",
    "    with torch.no_grad():\n",
    "        pred=netC(torch.Tensor(X_train[i].reshape((1,3,100,100))))[0]#.to(device)\n",
    "        pred=np.argmax(pred.detach().cpu().numpy())\n",
    "        pred_y.append(pred)\n",
    "        \n",
    "    if i%1000==0:\n",
    "        print(i)\n",
    "        \n",
    "print(\"Test set accuracy:\",np.sum(pred_y==y_train)/len(y_train),\"The total number of training sets is:\",len(y_train))"
   ]
  },
  {
   "cell_type": "code",
   "execution_count": 19,
   "metadata": {},
   "outputs": [],
   "source": [
    "torch.save(netC,\"sign_language.pth\")"
   ]
  },
  {
   "cell_type": "code",
   "execution_count": 24,
   "metadata": {},
   "outputs": [
    {
     "name": "stderr",
     "output_type": "stream",
     "text": [
      "Clipping input data to the valid range for imshow with RGB data ([0..1] for floats or [0..255] for integers).\n"
     ]
    },
    {
     "name": "stdout",
     "output_type": "stream",
     "text": [
      "forecast result: 3 actual value: 3\n"
     ]
    },
    {
     "data": {
      "text/plain": [
       "<matplotlib.image.AxesImage at 0x2608d15ebd0>"
      ]
     },
     "execution_count": 24,
     "metadata": {},
     "output_type": "execute_result"
    },
    {
     "data": {
      "image/png": "[encoded data removed]",
      "text/plain": [
       "<Figure size 640x480 with 1 Axes>"
      ]
     },
     "metadata": {},
     "output_type": "display_data"
    }
   ],
   "source": [
    "index=10\n",
    "pred=netC(torch.Tensor(X_train[index].reshape(1,3,100,100)))[0]\n",
    "print(\"forecast result:\",np.argmax(pred.detach().cpu().numpy()),\"actual value:\",y_train[index])\n",
    "plt.imshow(X_train[index].transpose(1,2,0))"
   ]
  }
 ],
 "metadata": {
  "kernelspec": {
   "display_name": "Python 3",
   "language": "python",
   "name": "python3"
  },
  "language_info": {
   "codemirror_mode": {
    "name": "ipython",
    "version": 3
   },
   "file_extension": ".py",
   "mimetype": "text/x-python",
   "name": "python",
   "nbconvert_exporter": "python",
   "pygments_lexer": "ipython3",
   "version": "3.12.3"
  }
 },
 "nbformat": 4,
 "nbformat_minor": 2
}
